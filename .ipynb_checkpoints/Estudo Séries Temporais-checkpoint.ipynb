{
 "cells": [
  {
   "cell_type": "markdown",
   "id": "b6d68ee7",
   "metadata": {},
   "source": [
    "# <font color='blue'>Séries Temporais</font>\n",
    "<p> Séries Temporais nada mais é do que uma série de ponto de dados ordenados no decorrer do tempo. Em uma série temporal, o tempo costuma ser a variável independente e a meta geralmente é fazer uma previsão para o futuro.<br>\n",
    "\n",
    "### Exemplos de campos de uso\n",
    "<p>\n",
    "Economia: Produto Interno Bruto (PIB), Índice de Preços ao Consumidor (IPC), Índice S&P 500 e taxas de desemprego<br>\n",
    "Ciências Sociais: Taxas de natalidade, população, dados de migração, indicadores políticos<br>\n",
    "Epidemiologia: Taxas de doenças, taxas de mortalidade, populações de mosquitos<br>\n",
    "Medicina:Controle de pressão arterial, controle de peso, medições de colesterol, monitoramento de frequência cardíaca<br>\n",
    "Física:\tTemperaturas globais, observações mensais de manchas solares, níveis de poluição.    \n",
    "    \n",
    "# <font color='blue'>Monte Carlo</font>\n",
    "<p> As simulações de Monte Carlo têm o nome do hot spot de apostas em Mônaco, pois o \n",
    "acaso e os resultados aleatórios são centrais na técnica de modelagem, assim como em jogos \n",
    "como roleta, dados e caça-níqueis. A técnica foi desenvolvida pela primeira vez por Stanislaw \n",
    "Ulam, um matemático que trabalhou no Projeto Manhattan. Após a guerra, enquanto se \n",
    "recuperava de uma cirurgia no cérebro, Ulam se divertiu jogando inúmeros jogos de paciência. \n",
    "Ele ficou interessado em traçar o resultado de cada um desses jogos, a fim de observar sua \n",
    "distribuição e determinar a probabilidade de vitória. Depois que ele compartilhou sua ideia com \n",
    "John Von Neumann, os dois colaboraram para desenvolver a simulação de Monte Carlo\n",
    "    \n",
    "### Exemplos de campos de uso\n",
    "As telecomunicações as utilizam para avaliar o desempenho da rede em \n",
    "diferentes cenários, ajudando-os a otimizar a rede.<br> \n",
    "Os analistas os utilizam para avaliar o risco de uma entidade adiar e analisar derivativos, ou outros produtos financeiros.<br> Seguradoras e perfuradores de poços de petróleo também os utilizam.<br> \n",
    "As simulações de Monte Carlo têm inúmeras aplicações fora dos negócios e das finanças, como meteorologia, astronomia e física \n",
    "de partículas    "
   ]
  },
  {
   "cell_type": "markdown",
   "id": "dcca54db",
   "metadata": {},
   "source": [
    "## Estudo de Caso - Simulação de Monte Carlo e Séries Temporais Para Modelagem Financeira"
   ]
  },
  {
   "cell_type": "code",
   "execution_count": 1,
   "id": "c956066c",
   "metadata": {},
   "outputs": [],
   "source": [
    "# !pip3 install yfinance"
   ]
  },
  {
   "cell_type": "code",
   "execution_count": 2,
   "id": "8fa63804",
   "metadata": {},
   "outputs": [],
   "source": [
    "# Import da bibli do YahooFiance para baixar cotações\n",
    "import yfinance as yF\n",
    "\n",
    "# Imports para manipulação de dados\n",
    "import numpy as np\n",
    "import pandas as pd\n",
    "\n",
    "# import para visualizações\n",
    "import matplotlib.pyplot as plt\n",
    "import matplotlib as m\n",
    "import seaborn as sns\n",
    "\n",
    "# import para cálculos estatísticos\n",
    "import scipy\n",
    "from scipy.stats import kurtosis, skew, shapiro\n",
    "import warnings\n",
    "warnings.filterwarnings('ignore')\n",
    "\n",
    "# import para formatação dos gráficos\n",
    "plt.style.use('fivethirtyeight')\n",
    "m.rcParams['axes.labelsize'] = 14\n",
    "m.rcParams['xtick.labelsize'] = 12\n",
    "m.rcParams['ytick.labelsize'] = 12\n",
    "m.rcParams['text.color'] = 'k'\n",
    "from matplotlib.pylab import rcParams\n",
    "m.rcParams['figure.figsize'] = 20, 10\n",
    "\n",
    "# formatando valores com duas casas decimais\n",
    "pd.options.display.float_format = '{:.2f}'.format\n"
   ]
  },
  {
   "cell_type": "markdown",
   "id": "22b0ebfb",
   "metadata": {},
   "source": [
    "## Carregando os Dados"
   ]
  },
  {
   "cell_type": "code",
   "execution_count": 3,
   "id": "1c1e63a2",
   "metadata": {},
   "outputs": [
    {
     "data": {
      "text/html": [
       "<div>\n",
       "<style scoped>\n",
       "    .dataframe tbody tr th:only-of-type {\n",
       "        vertical-align: middle;\n",
       "    }\n",
       "\n",
       "    .dataframe tbody tr th {\n",
       "        vertical-align: top;\n",
       "    }\n",
       "\n",
       "    .dataframe thead th {\n",
       "        text-align: right;\n",
       "    }\n",
       "</style>\n",
       "<table border=\"1\" class=\"dataframe\">\n",
       "  <thead>\n",
       "    <tr style=\"text-align: right;\">\n",
       "      <th></th>\n",
       "      <th>Open</th>\n",
       "      <th>High</th>\n",
       "      <th>Low</th>\n",
       "      <th>Close</th>\n",
       "      <th>Volume</th>\n",
       "      <th>Dividends</th>\n",
       "      <th>Stock Splits</th>\n",
       "    </tr>\n",
       "    <tr>\n",
       "      <th>Date</th>\n",
       "      <th></th>\n",
       "      <th></th>\n",
       "      <th></th>\n",
       "      <th></th>\n",
       "      <th></th>\n",
       "      <th></th>\n",
       "      <th></th>\n",
       "    </tr>\n",
       "  </thead>\n",
       "  <tbody>\n",
       "    <tr>\n",
       "      <th>2023-01-13 00:00:00+00:00</th>\n",
       "      <td>18868.91</td>\n",
       "      <td>19964.32</td>\n",
       "      <td>18753.16</td>\n",
       "      <td>19909.57</td>\n",
       "      <td>29225029694</td>\n",
       "      <td>0.00</td>\n",
       "      <td>0.00</td>\n",
       "    </tr>\n",
       "    <tr>\n",
       "      <th>2023-01-14 00:00:00+00:00</th>\n",
       "      <td>19910.54</td>\n",
       "      <td>21075.14</td>\n",
       "      <td>19907.83</td>\n",
       "      <td>20976.30</td>\n",
       "      <td>38967784639</td>\n",
       "      <td>0.00</td>\n",
       "      <td>0.00</td>\n",
       "    </tr>\n",
       "    <tr>\n",
       "      <th>2023-01-15 00:00:00+00:00</th>\n",
       "      <td>20977.48</td>\n",
       "      <td>20993.75</td>\n",
       "      <td>20606.99</td>\n",
       "      <td>20880.80</td>\n",
       "      <td>19298407543</td>\n",
       "      <td>0.00</td>\n",
       "      <td>0.00</td>\n",
       "    </tr>\n",
       "    <tr>\n",
       "      <th>2023-01-16 00:00:00+00:00</th>\n",
       "      <td>20882.22</td>\n",
       "      <td>21360.88</td>\n",
       "      <td>20715.75</td>\n",
       "      <td>21169.63</td>\n",
       "      <td>26792494050</td>\n",
       "      <td>0.00</td>\n",
       "      <td>0.00</td>\n",
       "    </tr>\n",
       "    <tr>\n",
       "      <th>2023-01-17 00:00:00+00:00</th>\n",
       "      <td>21175.83</td>\n",
       "      <td>21438.66</td>\n",
       "      <td>20978.53</td>\n",
       "      <td>21161.52</td>\n",
       "      <td>24999983362</td>\n",
       "      <td>0.00</td>\n",
       "      <td>0.00</td>\n",
       "    </tr>\n",
       "  </tbody>\n",
       "</table>\n",
       "</div>"
      ],
      "text/plain": [
       "                              Open     High      Low    Close       Volume  \\\n",
       "Date                                                                         \n",
       "2023-01-13 00:00:00+00:00 18868.91 19964.32 18753.16 19909.57  29225029694   \n",
       "2023-01-14 00:00:00+00:00 19910.54 21075.14 19907.83 20976.30  38967784639   \n",
       "2023-01-15 00:00:00+00:00 20977.48 20993.75 20606.99 20880.80  19298407543   \n",
       "2023-01-16 00:00:00+00:00 20882.22 21360.88 20715.75 21169.63  26792494050   \n",
       "2023-01-17 00:00:00+00:00 21175.83 21438.66 20978.53 21161.52  24999983362   \n",
       "\n",
       "                           Dividends  Stock Splits  \n",
       "Date                                                \n",
       "2023-01-13 00:00:00+00:00       0.00          0.00  \n",
       "2023-01-14 00:00:00+00:00       0.00          0.00  \n",
       "2023-01-15 00:00:00+00:00       0.00          0.00  \n",
       "2023-01-16 00:00:00+00:00       0.00          0.00  \n",
       "2023-01-17 00:00:00+00:00       0.00          0.00  "
      ]
     },
     "execution_count": 3,
     "metadata": {},
     "output_type": "execute_result"
    }
   ],
   "source": [
    "# Carrega o dataset\n",
    "#dados = pd.read_csv(\"dados.csv\", parse_dates = True, index_col = \"Data\")\n",
    "\n",
    "cotacoes = yF.Ticker('BTC-USD')\n",
    "\n",
    "# Opções de períodos 1d, 5d, 1mo, 3mo, 6mo, 1y, 2y, 5y, 10y e ytd.\n",
    "dados = cotacoes.history(period='1y')\n",
    "dados.head()\n"
   ]
  },
  {
   "cell_type": "code",
   "execution_count": 4,
   "id": "3a5126d3",
   "metadata": {},
   "outputs": [
    {
     "data": {
      "text/html": [
       "<div>\n",
       "<style scoped>\n",
       "    .dataframe tbody tr th:only-of-type {\n",
       "        vertical-align: middle;\n",
       "    }\n",
       "\n",
       "    .dataframe tbody tr th {\n",
       "        vertical-align: top;\n",
       "    }\n",
       "\n",
       "    .dataframe thead th {\n",
       "        text-align: right;\n",
       "    }\n",
       "</style>\n",
       "<table border=\"1\" class=\"dataframe\">\n",
       "  <thead>\n",
       "    <tr style=\"text-align: right;\">\n",
       "      <th></th>\n",
       "      <th>Abertura</th>\n",
       "      <th>Maximo</th>\n",
       "      <th>Minimo</th>\n",
       "      <th>Fechamento</th>\n",
       "      <th>Volume</th>\n",
       "    </tr>\n",
       "    <tr>\n",
       "      <th>Date</th>\n",
       "      <th></th>\n",
       "      <th></th>\n",
       "      <th></th>\n",
       "      <th></th>\n",
       "      <th></th>\n",
       "    </tr>\n",
       "  </thead>\n",
       "  <tbody>\n",
       "    <tr>\n",
       "      <th>2023-01-13 00:00:00+00:00</th>\n",
       "      <td>18868.91</td>\n",
       "      <td>19964.32</td>\n",
       "      <td>18753.16</td>\n",
       "      <td>19909.57</td>\n",
       "      <td>29225029694</td>\n",
       "    </tr>\n",
       "    <tr>\n",
       "      <th>2023-01-14 00:00:00+00:00</th>\n",
       "      <td>19910.54</td>\n",
       "      <td>21075.14</td>\n",
       "      <td>19907.83</td>\n",
       "      <td>20976.30</td>\n",
       "      <td>38967784639</td>\n",
       "    </tr>\n",
       "    <tr>\n",
       "      <th>2023-01-15 00:00:00+00:00</th>\n",
       "      <td>20977.48</td>\n",
       "      <td>20993.75</td>\n",
       "      <td>20606.99</td>\n",
       "      <td>20880.80</td>\n",
       "      <td>19298407543</td>\n",
       "    </tr>\n",
       "    <tr>\n",
       "      <th>2023-01-16 00:00:00+00:00</th>\n",
       "      <td>20882.22</td>\n",
       "      <td>21360.88</td>\n",
       "      <td>20715.75</td>\n",
       "      <td>21169.63</td>\n",
       "      <td>26792494050</td>\n",
       "    </tr>\n",
       "    <tr>\n",
       "      <th>2023-01-17 00:00:00+00:00</th>\n",
       "      <td>21175.83</td>\n",
       "      <td>21438.66</td>\n",
       "      <td>20978.53</td>\n",
       "      <td>21161.52</td>\n",
       "      <td>24999983362</td>\n",
       "    </tr>\n",
       "  </tbody>\n",
       "</table>\n",
       "</div>"
      ],
      "text/plain": [
       "                           Abertura   Maximo   Minimo  Fechamento       Volume\n",
       "Date                                                                          \n",
       "2023-01-13 00:00:00+00:00  18868.91 19964.32 18753.16    19909.57  29225029694\n",
       "2023-01-14 00:00:00+00:00  19910.54 21075.14 19907.83    20976.30  38967784639\n",
       "2023-01-15 00:00:00+00:00  20977.48 20993.75 20606.99    20880.80  19298407543\n",
       "2023-01-16 00:00:00+00:00  20882.22 21360.88 20715.75    21169.63  26792494050\n",
       "2023-01-17 00:00:00+00:00  21175.83 21438.66 20978.53    21161.52  24999983362"
      ]
     },
     "execution_count": 4,
     "metadata": {},
     "output_type": "execute_result"
    }
   ],
   "source": [
    "# Excluindo últimas linhas\n",
    "dados.drop('Dividends', axis=1, inplace=True)\n",
    "dados.drop('Stock Splits', axis=1, inplace=True)\n",
    "\n",
    "# Renomeando títulos das colunas\n",
    "# A coluna Date já fica automaticamente como índice \n",
    "dados.columns = ['Abertura','Maximo','Minimo','Fechamento','Volume']\n",
    "dados.head()"
   ]
  },
  {
   "cell_type": "code",
   "execution_count": 5,
   "id": "ba8a446d",
   "metadata": {},
   "outputs": [
    {
     "data": {
      "text/plain": [
       "(365, 5)"
      ]
     },
     "execution_count": 5,
     "metadata": {},
     "output_type": "execute_result"
    }
   ],
   "source": [
    "dados.shape"
   ]
  },
  {
   "cell_type": "code",
   "execution_count": 6,
   "id": "ebca5421",
   "metadata": {},
   "outputs": [
    {
     "name": "stdout",
     "output_type": "stream",
     "text": [
      "Menor data: 2023-01-13 00:00:00+00:00\n",
      "Maior data: 2024-01-13 00:00:00+00:00\n"
     ]
    }
   ],
   "source": [
    "# Observando o range de dados\n",
    "print(f'Menor data: {dados.index.min()}')\n",
    "print(f'Maior data: {dados.index.max()}')"
   ]
  },
  {
   "cell_type": "code",
   "execution_count": 8,
   "id": "4955b905",
   "metadata": {},
   "outputs": [
    {
     "data": {
      "text/plain": [
       "Abertura           42799.45\n",
       "Maximo             42958.73\n",
       "Minimo             42590.11\n",
       "Fechamento         42590.11\n",
       "Volume       43509579776.00\n",
       "Name: 2024-01-13 00:00:00+00:00, dtype: float64"
      ]
     },
     "metadata": {},
     "output_type": "display_data"
    }
   ],
   "source": [
    "# Vamos observar os dados referentes a última data do nosso conjunto de dados\n",
    "# Utilizaremso esses dados mais adiante para compor os parâmetros à simulação de Monte Carlo\n",
    "display(dados.loc[dados.index.max()])"
   ]
  },
  {
   "cell_type": "code",
   "execution_count": 9,
   "id": "24c2eb82",
   "metadata": {},
   "outputs": [
    {
     "data": {
      "text/plain": [
       "<bound method NDFrame.head of Date\n",
       "2023-01-14 00:00:00+00:00    0.05\n",
       "2023-01-15 00:00:00+00:00   -0.00\n",
       "2023-01-16 00:00:00+00:00    0.01\n",
       "2023-01-17 00:00:00+00:00   -0.00\n",
       "2023-01-18 00:00:00+00:00   -0.02\n",
       "                             ... \n",
       "2024-01-08 00:00:00+00:00    0.07\n",
       "2024-01-09 00:00:00+00:00   -0.02\n",
       "2024-01-10 00:00:00+00:00    0.01\n",
       "2024-01-11 00:00:00+00:00   -0.01\n",
       "2024-01-13 00:00:00+00:00   -0.08\n",
       "Name: Fechamento, Length: 364, dtype: float64>"
      ]
     },
     "execution_count": 9,
     "metadata": {},
     "output_type": "execute_result"
    }
   ],
   "source": [
    "# Calculando o percentual de mudança na cotação de fechamento diário das ações\n",
    "# ou seja, quando o valor de fechamento varia de um dia para o outro o retorno diário da ação\n",
    "retorno_diario = dados['Fechamento'].pct_change().dropna()\n",
    "retorno_diario.head"
   ]
  },
  {
   "cell_type": "code",
   "execution_count": null,
   "id": "97efcb24",
   "metadata": {},
   "outputs": [],
   "source": []
  },
  {
   "cell_type": "code",
   "execution_count": null,
   "id": "3f71208b",
   "metadata": {},
   "outputs": [],
   "source": []
  },
  {
   "cell_type": "code",
   "execution_count": null,
   "id": "5581e5df",
   "metadata": {},
   "outputs": [],
   "source": []
  },
  {
   "cell_type": "code",
   "execution_count": null,
   "id": "83d75dba",
   "metadata": {},
   "outputs": [],
   "source": []
  },
  {
   "cell_type": "code",
   "execution_count": null,
   "id": "f422f3ab",
   "metadata": {},
   "outputs": [],
   "source": []
  },
  {
   "cell_type": "code",
   "execution_count": null,
   "id": "915e620d",
   "metadata": {},
   "outputs": [],
   "source": []
  },
  {
   "cell_type": "code",
   "execution_count": null,
   "id": "730fdd38",
   "metadata": {},
   "outputs": [],
   "source": []
  },
  {
   "cell_type": "code",
   "execution_count": null,
   "id": "5c9b28bf",
   "metadata": {},
   "outputs": [],
   "source": []
  },
  {
   "cell_type": "code",
   "execution_count": null,
   "id": "363edd16",
   "metadata": {},
   "outputs": [],
   "source": []
  },
  {
   "cell_type": "code",
   "execution_count": null,
   "id": "00ef4a32",
   "metadata": {},
   "outputs": [],
   "source": []
  }
 ],
 "metadata": {
  "kernelspec": {
   "display_name": "Python 3 (ipykernel)",
   "language": "python",
   "name": "python3"
  },
  "language_info": {
   "codemirror_mode": {
    "name": "ipython",
    "version": 3
   },
   "file_extension": ".py",
   "mimetype": "text/x-python",
   "name": "python",
   "nbconvert_exporter": "python",
   "pygments_lexer": "ipython3",
   "version": "3.11.5"
  }
 },
 "nbformat": 4,
 "nbformat_minor": 5
}
